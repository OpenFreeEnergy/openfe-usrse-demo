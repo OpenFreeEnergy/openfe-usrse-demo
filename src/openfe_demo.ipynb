{
 "cells": [
  {
   "cell_type": "markdown",
   "id": "cb0d308b-8f50-4ac9-a8a3-550d8a2e3feb",
   "metadata": {},
   "source": [
    "<img src=\"images/OFE-color-horizontal.png\" width=\"150\"> &emsp;&emsp; \n",
    "<img src=\"images/OMSF-logo-horizontal-color.png\" width=\"200\"> \n",
    "# Open Free Energy: An Open Source Ecosystem for Calculating Free Energies"
   ]
  },
  {
   "cell_type": "markdown",
   "id": "8eea1a56-3241-4ccf-9d3a-88de6bbf0e0e",
   "metadata": {},
   "source": [
    "# 0. Overview"
   ]
  },
  {
   "cell_type": "markdown",
   "id": "dec85929-9cc5-4518-a8be-8af9cd3845a3",
   "metadata": {},
   "source": [
    "## The ``Hello, World!`` of Free Energy Calculations"
   ]
  },
  {
   "cell_type": "markdown",
   "id": "1cc34ccb-4e88-4ced-8cbd-90c2de63bd97",
   "metadata": {},
   "source": [
    "The OpenFE ecosystem is an open-source framework for calculating alchemical free energies.\n",
    "\n",
    "In this demo, we will demonstrate how you can use either the CLI to execute physics-based simulations and predict the relative binding free energy (RBFE) of a ligand binding to a protein.\n",
    "\n",
    "Specifically, we will be predicting which ligand from a set of candidates binds best to a target protein. We will be using TYK2 (Tyrosine kinase 2) as our target protein, which can be thought of as the \"Hello, World\" of free energy calculations.\n",
    "\n",
    "For convenience, a prepared PDB structure of the\n",
    "TYK2 protein is provided in `inputs/tyk2_protein.pdb`:\n",
    "\n",
    "<img src=\"images/tyk2.png\" width=\"250\" alt=\"TYK2 protein\"> &emsp;&emsp;&emsp;&emsp;&emsp;&emsp;&emsp;&emsp; \n",
    "<img src=\"images/tmp_network.png\" width=\"250\"> "
   ]
  },
  {
   "cell_type": "markdown",
   "id": "103515b3-860c-4c23-a746-309c48beeaca",
   "metadata": {},
   "source": [
    "OpenFE RBFE calculations can be thought of as 3 distinct steps:\n",
    "\n",
    " 1. **Setup**: construct a graph relating the ligands\n",
    " 2. **Run**: execute a physics-based simulation\n",
    " 3. **Gather**: compute meaningful metrics from the simulation data\n",
    "\n",
    "Each stage is supported by the OpenFE software packages, but everything can be accessed from the base **openfe** package.\n",
    "\n",
    "<img src=\"images/ecosystem.png\" width=\"450\">\n",
    "\n",
    "**NOTE**: OpenFE's RBFE protocol uses [OpenMM](https://openmm.org/) as the physics based simulation engine.\n",
    "<!-- **NOTE**: OpenFE also provides protocols for running [Absolute Hydration Free Energy Calculations](https://docs.openfree.energy/en/latest/tutorials/ahfe_tutorial.html) and [Molecular Dynamics (MD) simulations](https://docs.openfree.energy/en/latest/tutorials/md_tutorial.html). \n",
    "Also, see our [tutorials](https://docs.openfree.energy/en/stable/tutorials/index.html) for step-by-step guides. -->"
   ]
  },
  {
   "cell_type": "markdown",
   "id": "AUgaKFN7eCt5",
   "metadata": {
    "id": "AUgaKFN7eCt5",
    "jp-MarkdownHeadingCollapsed": true,
    "nbsphinx": "hidden"
   },
   "source": [
    "# 0. Setup for Google Colab\n",
    "\n",
    "If you are running this example in Google Colab, run the following cells to setup the environment.\\\n",
    "If you are running this notebook locally, skip down to `1. Relative Binding Free Energies with the **openfe** CLI`"
   ]
  },
  {
   "cell_type": "code",
   "execution_count": 1,
   "id": "-jX9udRGehD3",
   "metadata": {
    "colab": {
     "base_uri": "https://localhost:8080/"
    },
    "id": "-jX9udRGehD3",
    "nbsphinx": "hidden",
    "outputId": "78a0d40d-a6d2-4a93-a041-406a8cb551b9",
    "tags": []
   },
   "outputs": [],
   "source": [
    "# NBVAL_SKIP\n",
    "# Only run this cell if on google colab\n",
    "import os\n",
    "import locale\n",
    "locale.getpreferredencoding = lambda: \"UTF-8\"  # hack for google colab, not needed for local execution\n",
    "\n",
    "if \"COLAB_RELEASE_TAG\" in os.environ:\n",
    "    !pip install -q condacolab\n",
    "    import condacolab\n",
    "    condacolab.install_from_url(\"https://github.com/OpenFreeEnergy/openfe/releases/download/v1.6.0/OpenFEforge-1.6.0-Linux-x86_64.sh\")"
   ]
  },
  {
   "cell_type": "code",
   "execution_count": 2,
   "id": "dlCARZ2_fAI4",
   "metadata": {
    "colab": {
     "base_uri": "https://localhost:8080/"
    },
    "id": "dlCARZ2_fAI4",
    "nbsphinx": "hidden",
    "outputId": "d528f4dc-5105-4288-ea08-9b2e75d442ff",
    "tags": []
   },
   "outputs": [],
   "source": [
    "# NBVAL_SKIP\n",
    "# Only run this cell if on google colab\n",
    "import os\n",
    "if \"COLAB_RELEASE_TAG\" in os.environ:\n",
    "    import condacolab\n",
    "    import locale\n",
    "    locale.getpreferredencoding = lambda: \"UTF-8\"\n",
    "    !mkdir inputs && cd inputs && openfe fetch rbfe-tutorial\n",
    "    for _ in range(3):\n",
    "      # Sometimes we have to re-run the check\n",
    "      try:\n",
    "        condacolab.check()\n",
    "      except:\n",
    "        pass\n",
    "      else:\n",
    "        break"
   ]
  },
  {
   "cell_type": "markdown",
   "id": "524015c7-6c42-4b84-98b9-361c17945fbe",
   "metadata": {},
   "source": [
    "# 1. Relative Binding Free Energies with the **openfe** CLI"
   ]
  },
  {
   "cell_type": "markdown",
   "id": "11074a41-2827-48c5-9493-e0e4e2d94838",
   "metadata": {},
   "source": [
    "First, we'll show how you can run a basic RBFE campaign with no Python at all!\n",
    "\n",
    "The 3 stages described above each correspond to a CLI command:\n",
    "\n",
    "**1. setup**:``openfe plan-rbfe-network``\n",
    "\n",
    "**2. run** ``openfe quickrun``\n",
    "\n",
    "**3. gather** ``openfe gather``\n",
    "\n",
    "All you need is your target protein in `.pdb` format, and your candidate ligands in `.sdf` format."
   ]
  },
  {
   "cell_type": "markdown",
   "id": "68cc5f26-71e2-4135-b72b-6c5a4a1d4072",
   "metadata": {},
   "source": [
    "## 1.1 Setup\n",
    "\n",
    "The `openfe plan-rbfe-network` command plans a relative binding free energy network and saves it as a series of JSON files for the `openfe quickrun` command to process.\n",
    "\n",
    "Since the CLI tool is a wrapper intended for the simplest cases, it chooses pratical defaults so that you don't have to define them. \n",
    "<!-- # TODO: add link to defaults -->\n",
    "\n",
    "These choices can be customized by creating a settings yaml file, which is\n",
    "passed in via the ``-s settings.yaml`` option. For more details, please visit our user guide section about [Customising CLI planning with YAML settings](https://docs.openfree.energy/en/latest/guide/cli/cli_yaml.html)"
   ]
  },
  {
   "cell_type": "code",
   "execution_count": 1,
   "id": "adab478b-ec1a-4c9c-a110-3d1ba5bfa7c6",
   "metadata": {},
   "outputs": [
    {
     "name": "stdout",
     "output_type": "stream",
     "text": [
      "RBFE-NETWORK PLANNER\n",
      "______________________\n",
      "\n",
      "/Users/atravitz/micromamba/envs/openfe/lib/python3.12/site-packages/openff/utilities/provenance.py:25: CondaExecutableNotFoundWarning: No conda/mamba/micromamba executable found. Unable to determine package versions.\n",
      "  warnings.warn(\n",
      "Parsing in Files: \n",
      "\tGot input: \n",
      "\t\tSmall Molecules: SmallMoleculeComponent(name=lig_ejm_31) SmallMoleculeComponent(name=lig_ejm_42) SmallMoleculeComponent(name=lig_ejm_46) SmallMoleculeComponent(name=lig_ejm_43) SmallMoleculeComponent(name=lig_ejm_47) SmallMoleculeComponent(name=lig_ejm_50) SmallMoleculeComponent(name=lig_jmc_23) SmallMoleculeComponent(name=lig_ejm_48) SmallMoleculeComponent(name=lig_jmc_27) SmallMoleculeComponent(name=lig_jmc_28)\n",
      "\t\tProtein: ProteinComponent(name=)\n",
      "\t\tCofactors: []\n",
      "\t\tSolvent: SolventComponent(name=O, Na+, Cl-)\n",
      "\n",
      "Using Options:\n",
      "\tMapper: <LomapAtomMapper (time=20, threed=True, max3d=1.0, element_change=True, seed='', shift=False)>\n",
      "\tMapping Scorer: <function default_lomap_score at 0x150c489a0>\n",
      "\tNetwork Generation: <function generate_minimal_spanning_network at 0x155c91b20>\n",
      "\tPartial Charge Generation: am1bcc\n",
      "\n",
      "\tn_protocol_repeats=3 (3 simulation repeat(s) per transformation)\n",
      "\n",
      "Planning RBFE-Campaign:\n",
      "assigning ligand partial charges -- this may be slow\n",
      "Generating charges: 100%|██████████████████████| 10/10 [00:00<00:00, 364.83it/s]\n",
      "\tDone\n",
      "\n",
      "Output:\n",
      "\tSaving to: /Users/atravitz/software/openfe-usrse-demo/src/tyk2_campaign\n",
      "\t\t- tyk2_campaign.json\n",
      "\t\t- ligand_network.graphml\n",
      "\t\t\t\t- rbfe_lig_ejm_46_complex_lig_jmc_28_complex.json\n",
      "\t\t\t\t- rbfe_lig_ejm_31_solvent_lig_ejm_46_solvent.json\n",
      "\t\t\t\t- rbfe_lig_ejm_42_complex_lig_ejm_50_complex.json\n",
      "\t\t\t\t- rbfe_lig_ejm_42_complex_lig_ejm_43_complex.json\n",
      "\t\t\t\t- rbfe_lig_ejm_31_complex_lig_ejm_48_complex.json\n",
      "\t\t\t\t- rbfe_lig_ejm_31_solvent_lig_ejm_47_solvent.json\n",
      "\t\t\t\t- rbfe_lig_ejm_31_complex_lig_ejm_47_complex.json\n",
      "\t\t\t\t- rbfe_lig_ejm_42_solvent_lig_ejm_50_solvent.json\n",
      "\t\t\t\t- rbfe_lig_ejm_46_solvent_lig_jmc_28_solvent.json\n",
      "\t\t\t\t- rbfe_lig_jmc_27_complex_lig_jmc_28_complex.json\n",
      "\t\t\t\t- rbfe_lig_jmc_23_complex_lig_jmc_28_complex.json\n",
      "\t\t\t\t- rbfe_lig_ejm_31_solvent_lig_ejm_50_solvent.json\n",
      "\t\t\t\t- rbfe_lig_ejm_42_solvent_lig_ejm_43_solvent.json\n",
      "\t\t\t\t- rbfe_lig_jmc_27_solvent_lig_jmc_28_solvent.json\n",
      "\t\t\t\t- rbfe_lig_ejm_31_complex_lig_ejm_50_complex.json\n",
      "\t\t\t\t- rbfe_lig_jmc_23_solvent_lig_jmc_28_solvent.json\n",
      "\t\t\t\t- rbfe_lig_ejm_31_complex_lig_ejm_46_complex.json\n",
      "\t\t\t\t- rbfe_lig_ejm_31_solvent_lig_ejm_48_solvent.json\n",
      "\tDuration: 0:00:03.173343\n",
      "\n"
     ]
    }
   ],
   "source": [
    "# note, we use ligands with charges already assigned to speed up this step, but this is optional\n",
    "! openfe plan-rbfe-network -M inputs/tyk2_ligands_charged.sdf -p inputs/tyk2_protein.pdb -o tyk2_campaign"
   ]
  },
  {
   "cell_type": "markdown",
   "id": "5846fc42-a9db-4e3c-ae43-44a1b46ffb7c",
   "metadata": {},
   "source": [
    "### visualizing the network\n",
    "\n",
    "We can visualize the network stored in `ligand_network.graphml` using the `openfe view-ligand-network` command:"
   ]
  },
  {
   "cell_type": "code",
   "execution_count": 2,
   "id": "b2a267ce-af88-4d2f-85fa-86ee555d7acd",
   "metadata": {},
   "outputs": [
    {
     "name": "stdout",
     "output_type": "stream",
     "text": [
      "ligand_network.graphml \u001b[1m\u001b[36mtransformations\u001b[m\u001b[m        tyk2_campaign.json\n"
     ]
    }
   ],
   "source": [
    "! ls tyk2_campaign/"
   ]
  },
  {
   "cell_type": "code",
   "execution_count": 3,
   "id": "6301d1b8-f7f1-4812-bf45-84311757fe81",
   "metadata": {},
   "outputs": [],
   "source": [
    "# !openfe view-ligand-network tyk2_campaign/ligand_network.graphml"
   ]
  },
  {
   "cell_type": "markdown",
   "id": "26fef157-6989-406d-b719-0ed597ef820e",
   "metadata": {},
   "source": [
    "## 1.2 Run\n",
    "\n",
    "You can run each leg individually by using the `openfe quickrun` command. It takes a transformation JSON as input, and the flags `-o` to give the final output JSON file and `-d` for the directory where simulation results should be stored. For example,\n",
    "\n",
    "```bash\n",
    "openfe quickrun tyk2_json/lig_ejm_31_lig_ejm_47_complex.json -o results_complex.json -d working-directory\n",
    "openfe quickrun tyk2_json/lig_ejm_31_lig_ejm_47_solvent.json -o results_solvent.json -d working-directory\n",
    "```"
   ]
  },
  {
   "cell_type": "markdown",
   "id": "5f59eb75-25db-440c-9f2f-d5466376e635",
   "metadata": {},
   "source": [
    "Molecular simulation is time-intensive, so instead of running on high-performance compute, you can copy down example results to explore the next step:"
   ]
  },
  {
   "cell_type": "code",
   "execution_count": 4,
   "id": "57967b12-ac89-402a-9387-b016bf9e3c5e",
   "metadata": {},
   "outputs": [
    {
     "name": "stdout",
     "output_type": "stream",
     "text": [
      "Fetching /Users/atravitz/micromamba/envs/openfe/lib/python3.12/site-packages/openfecli/tests/data/rbfe_results.tar.gz\n"
     ]
    }
   ],
   "source": [
    "# Results from our cli tutorial\n",
    "!openfe fetch rbfe-tutorial-results\n",
    "# Extract results\n",
    "!tar -xf rbfe_results.tar.gz"
   ]
  },
  {
   "cell_type": "markdown",
   "id": "2c2cd9c7-123c-4568-849c-084f1838d147",
   "metadata": {},
   "source": [
    "## 1.3 Gather\n",
    "\n",
    "Once the simulations are complete, you can use `openfe gather` to calculate the $\\Delta G$ values for each ligand:"
   ]
  },
  {
   "cell_type": "code",
   "execution_count": 5,
   "id": "888eb307-1dc7-472e-afde-b6061f3e9aad",
   "metadata": {
    "scrolled": true
   },
   "outputs": [
    {
     "name": "stdout",
     "output_type": "stream",
     "text": [
      "/Users/atravitz/micromamba/envs/openfe/lib/python3.12/site-packages/openff/utilities/provenance.py:25: CondaExecutableNotFoundWarning: No conda/mamba/micromamba executable found. Unable to determine package versions.\n",
      "  warnings.warn(\n",
      "┌─────────┬────────────┬────────────┬─────────────────────┬────────────────────┐\n",
      "│\u001b[1m         \u001b[0m│\u001b[1m            \u001b[0m│\u001b[1m            \u001b[0m│\u001b[1m                     \u001b[0m│\u001b[1m \u001b[0m\u001b[1mMBAR uncertainty  \u001b[0m\u001b[1m \u001b[0m│\n",
      "│\u001b[1m \u001b[0m\u001b[1mleg    \u001b[0m\u001b[1m \u001b[0m│\u001b[1m \u001b[0m\u001b[1mligand_i  \u001b[0m\u001b[1m \u001b[0m│\u001b[1m \u001b[0m\u001b[1mligand_j  \u001b[0m\u001b[1m \u001b[0m│\u001b[1m \u001b[0m\u001b[1mDG(i->j) (kcal/mol)\u001b[0m\u001b[1m \u001b[0m│\u001b[1m \u001b[0m\u001b[1m(kcal/mol)        \u001b[0m\u001b[1m \u001b[0m│\n",
      "├─────────┼────────────┼────────────┼─────────────────────┼────────────────────┤\n",
      "│ complex │ lig_ejm_31 │ lig_ejm_42 │ -14.8               │ 0.8                │\n",
      "│ complex │ lig_ejm_31 │ lig_ejm_42 │ -14.9               │ 0.8                │\n",
      "│ complex │ lig_ejm_31 │ lig_ejm_42 │ -15.1               │ 0.8                │\n",
      "│ solvent │ lig_ejm_31 │ lig_ejm_42 │ -15.7               │ 0.8                │\n",
      "│ solvent │ lig_ejm_31 │ lig_ejm_42 │ -15.7               │ 0.8                │\n",
      "│ solvent │ lig_ejm_31 │ lig_ejm_42 │ -15.7               │ 0.8                │\n",
      "│ complex │ lig_ejm_31 │ lig_ejm_46 │ -40.7               │ 0.8                │\n",
      "│ complex │ lig_ejm_31 │ lig_ejm_46 │ -40.7               │ 0.8                │\n",
      "│ complex │ lig_ejm_31 │ lig_ejm_46 │ -40.8               │ 0.8                │\n",
      "│ solvent │ lig_ejm_31 │ lig_ejm_46 │ -39.8               │ 0.8                │\n",
      "│ solvent │ lig_ejm_31 │ lig_ejm_46 │ -39.9               │ 0.8                │\n",
      "│ solvent │ lig_ejm_31 │ lig_ejm_46 │ -39.8               │ 0.8                │\n",
      "│ complex │ lig_ejm_31 │ lig_ejm_47 │ -27.7               │ 0.8                │\n",
      "│ complex │ lig_ejm_31 │ lig_ejm_47 │ -27.8               │ 0.8                │\n",
      "│ complex │ lig_ejm_31 │ lig_ejm_47 │ -28.0               │ 0.8                │\n",
      "│ solvent │ lig_ejm_31 │ lig_ejm_47 │ -27.8               │ 0.8                │\n",
      "│ solvent │ lig_ejm_31 │ lig_ejm_47 │ -27.8               │ 0.8                │\n",
      "│ solvent │ lig_ejm_31 │ lig_ejm_47 │ -27.9               │ 0.8                │\n",
      "│ complex │ lig_ejm_31 │ lig_ejm_48 │ -16.2               │ 0.8                │\n",
      "│ complex │ lig_ejm_31 │ lig_ejm_48 │ -16.0               │ 0.8                │\n",
      "│ complex │ lig_ejm_31 │ lig_ejm_48 │ -16.2               │ 0.8                │\n",
      "│ solvent │ lig_ejm_31 │ lig_ejm_48 │ -16.8               │ 0.8                │\n",
      "│ solvent │ lig_ejm_31 │ lig_ejm_48 │ -16.8               │ 0.8                │\n",
      "│ solvent │ lig_ejm_31 │ lig_ejm_48 │ -16.7               │ 0.8                │\n",
      "│ complex │ lig_ejm_31 │ lig_ejm_50 │ -57.3               │ 0.8                │\n",
      "│ complex │ lig_ejm_31 │ lig_ejm_50 │ -57.4               │ 0.8                │\n",
      "│ complex │ lig_ejm_31 │ lig_ejm_50 │ -57.3               │ 0.8                │\n",
      "│ solvent │ lig_ejm_31 │ lig_ejm_50 │ -58.3               │ 0.8                │\n",
      "│ solvent │ lig_ejm_31 │ lig_ejm_50 │ -58.4               │ 0.8                │\n",
      "│ solvent │ lig_ejm_31 │ lig_ejm_50 │ -58.3               │ 0.8                │\n",
      "│ complex │ lig_ejm_42 │ lig_ejm_43 │ -18.7               │ 0.8                │\n",
      "│ complex │ lig_ejm_42 │ lig_ejm_43 │ -19.0               │ 0.8                │\n",
      "│ complex │ lig_ejm_42 │ lig_ejm_43 │ -19.0               │ 0.8                │\n",
      "│ solvent │ lig_ejm_42 │ lig_ejm_43 │ -20.3               │ 0.8                │\n",
      "│ solvent │ lig_ejm_42 │ lig_ejm_43 │ -20.3               │ 0.8                │\n",
      "│ solvent │ lig_ejm_42 │ lig_ejm_43 │ -20.3               │ 0.8                │\n",
      "│ complex │ lig_ejm_46 │ lig_jmc_23 │ 17.5                │ 0.8                │\n",
      "│ complex │ lig_ejm_46 │ lig_jmc_23 │ 17.3                │ 0.8                │\n",
      "│ complex │ lig_ejm_46 │ lig_jmc_23 │ 17.4                │ 0.8                │\n",
      "│ solvent │ lig_ejm_46 │ lig_jmc_23 │ 17.1                │ 0.8                │\n",
      "│ solvent │ lig_ejm_46 │ lig_jmc_23 │ 17.1                │ 0.8                │\n",
      "│ solvent │ lig_ejm_46 │ lig_jmc_23 │ 17.2                │ 0.8                │\n",
      "│ complex │ lig_ejm_46 │ lig_jmc_27 │ 15.7                │ 0.8                │\n",
      "│ complex │ lig_ejm_46 │ lig_jmc_27 │ 15.8                │ 0.8                │\n",
      "│ complex │ lig_ejm_46 │ lig_jmc_27 │ 15.9                │ 0.8                │\n",
      "│ solvent │ lig_ejm_46 │ lig_jmc_27 │ 16.0                │ 0.8                │\n",
      "│ solvent │ lig_ejm_46 │ lig_jmc_27 │ 15.9                │ 0.8                │\n",
      "│ solvent │ lig_ejm_46 │ lig_jmc_27 │ 15.9                │ 0.8                │\n",
      "│ complex │ lig_ejm_46 │ lig_jmc_28 │ 23.2                │ 0.8                │\n",
      "│ complex │ lig_ejm_46 │ lig_jmc_28 │ 23.1                │ 0.8                │\n",
      "│ complex │ lig_ejm_46 │ lig_jmc_28 │ 23.1                │ 0.8                │\n",
      "│ solvent │ lig_ejm_46 │ lig_jmc_28 │ 23.4                │ 0.8                │\n",
      "│ solvent │ lig_ejm_46 │ lig_jmc_28 │ 23.3                │ 0.8                │\n",
      "│ solvent │ lig_ejm_46 │ lig_jmc_28 │ 23.5                │ 0.8                │\n",
      "└─────────┴────────────┴────────────┴─────────────────────┴────────────────────┘\n"
     ]
    }
   ],
   "source": [
    "!openfe gather results/ --report raw"
   ]
  },
  {
   "cell_type": "code",
   "execution_count": 6,
   "id": "b117bae2-6a68-4e67-8971-e44f4f862d10",
   "metadata": {},
   "outputs": [
    {
     "name": "stdout",
     "output_type": "stream",
     "text": [
      "/Users/atravitz/micromamba/envs/openfe/lib/python3.12/site-packages/openff/utilities/provenance.py:25: CondaExecutableNotFoundWarning: No conda/mamba/micromamba executable found. Unable to determine package versions.\n",
      "  warnings.warn(\n",
      "┌────────────┬────────────────────┬────────────────────────┐\n",
      "│\u001b[1m \u001b[0m\u001b[1mligand    \u001b[0m\u001b[1m \u001b[0m│\u001b[1m \u001b[0m\u001b[1mDG(MLE) (kcal/mol)\u001b[0m\u001b[1m \u001b[0m│\u001b[1m \u001b[0m\u001b[1muncertainty (kcal/mol)\u001b[0m\u001b[1m \u001b[0m│\n",
      "├────────────┼────────────────────┼────────────────────────┤\n",
      "│ lig_ejm_31 │ -0.09              │ 0.05                   │\n",
      "│ lig_ejm_42 │ 0.7                │ 0.1                    │\n",
      "│ lig_ejm_46 │ -0.98              │ 0.05                   │\n",
      "│ lig_ejm_47 │ -0.1               │ 0.1                    │\n",
      "│ lig_ejm_48 │ 0.53               │ 0.09                   │\n",
      "│ lig_ejm_50 │ 0.91               │ 0.06                   │\n",
      "│ lig_ejm_43 │ 2.0                │ 0.2                    │\n",
      "│ lig_jmc_23 │ -0.68              │ 0.09                   │\n",
      "│ lig_jmc_27 │ -1.1               │ 0.1                    │\n",
      "│ lig_jmc_28 │ -1.25              │ 0.08                   │\n",
      "└────────────┴────────────────────┴────────────────────────┘\n"
     ]
    }
   ],
   "source": [
    "!openfe gather results/ "
   ]
  },
  {
   "cell_type": "markdown",
   "id": "14ade1f0",
   "metadata": {
    "id": "14ade1f0"
   },
   "source": [
    "# 2. Customization with `settings.yaml`"
   ]
  },
  {
   "cell_type": "markdown",
   "id": "28a62659-a649-4771-9c56-f33e8bb1dccc",
   "metadata": {},
   "source": [
    "## 2.1 Exploring atom mappings"
   ]
  },
  {
   "cell_type": "markdown",
   "id": "5962dec2-d9ef-475d-8086-ee15954e81f6",
   "metadata": {},
   "source": [
    "## x.x: Setup\n"
   ]
  },
  {
   "cell_type": "markdown",
   "id": "9e72bee2-bcb3-466f-86e7-8b51c8932aa7",
   "metadata": {},
   "source": [
    "### 2.1.2: Ligand Atom Mapping"
   ]
  },
  {
   "cell_type": "markdown",
   "id": "3128085c-db8a-4a70-89ef-0fde956fdb40",
   "metadata": {},
   "source": [
    "In the [RBFE protocol](https://docs.openfree.energy/en/latest/guide/protocols/relativehybridtopology.html) , an atom mapping defines which atoms are mutated during the alchemical transformation.\n",
    "The user can choose between two different atoms:\n",
    "1. `LomapAtomMapper`: based on the maximum common substructure (MCS)\n",
    "2. `KartografAtomMapper`: based on the 3D geometries of the ligands\n",
    "\n",
    "While we use the defaults here, please note that any supported arguments of Lomap and Kartograf can be passed to the atom mapper."
   ]
  },
  {
   "cell_type": "markdown",
   "id": "1eec9783-4620-43ff-8ef7-a647fd6f54ac",
   "metadata": {},
   "source": [
    "**1. `LomapAtomMapper`** "
   ]
  },
  {
   "cell_type": "code",
   "execution_count": 17,
   "id": "01384f2a-99ce-400d-a988-82fd393c4ee5",
   "metadata": {},
   "outputs": [
    {
     "ename": "NameError",
     "evalue": "name 'ligand_mols' is not defined",
     "output_type": "error",
     "traceback": [
      "\u001b[31m---------------------------------------------------------------------------\u001b[39m",
      "\u001b[31mNameError\u001b[39m                                 Traceback (most recent call last)",
      "\u001b[36mCell\u001b[39m\u001b[36m \u001b[39m\u001b[32mIn[17]\u001b[39m\u001b[32m, line 3\u001b[39m\n\u001b[32m      1\u001b[39m \u001b[38;5;28;01mfrom\u001b[39;00m\u001b[38;5;250m \u001b[39m\u001b[34;01mopenfe\u001b[39;00m\u001b[34;01m.\u001b[39;00m\u001b[34;01msetup\u001b[39;00m\u001b[38;5;250m \u001b[39m\u001b[38;5;28;01mimport\u001b[39;00m LomapAtomMapper\n\u001b[32m      2\u001b[39m mapper = LomapAtomMapper()\n\u001b[32m----> \u001b[39m\u001b[32m3\u001b[39m lomap_mapping = \u001b[38;5;28mnext\u001b[39m(mapper.suggest_mappings(\u001b[43mligand_mols\u001b[49m[\u001b[32m0\u001b[39m], ligand_mols[\u001b[32m4\u001b[39m]))\n",
      "\u001b[31mNameError\u001b[39m: name 'ligand_mols' is not defined"
     ]
    }
   ],
   "source": [
    "from openfe.setup import LomapAtomMapper\n",
    "mapper = LomapAtomMapper()\n",
    "lomap_mapping = next(mapper.suggest_mappings(ligand_mols[0], ligand_mols[4]))"
   ]
  },
  {
   "cell_type": "markdown",
   "id": "140f4e46-a58b-425d-b9cf-ab62078fc050",
   "metadata": {},
   "source": [
    "We can also visualize the atom mappings by invoking the individual OpenFE `AtomMapping` objects directly.\n",
    "\n",
    "Unique atoms between each mapping are shown in red, and atoms which are mapped but undergo element changes are shown in blue. Bonds which either involve atoms that are unique or undergo element changes are highlighted in red."
   ]
  },
  {
   "cell_type": "code",
   "execution_count": null,
   "id": "00fb84d6-9fa7-4114-96e5-c656ad6f3a3f",
   "metadata": {},
   "outputs": [],
   "source": [
    "# We can display the atom mapping in 2D by calling it\n",
    "lomap_mapping"
   ]
  },
  {
   "cell_type": "markdown",
   "id": "d3f10c24-e50c-46da-b8d5-8de1f3efae90",
   "metadata": {},
   "source": [
    "It is also possible to visualize the mapping in 3D using py3dmol:\n",
    "\n",
    "Here, the ``visualization_3D`` method displays the two end state molecules (left and right), in addition to the hybrid molecule (middle).\n",
    "\n",
    "Atoms that have the same sphere color in both end states are mapped (i.e. will be interpolated between each other), whilst those that do not have a coloured sphere are unmapped (i.e. will be transformed into dummy atoms in the opposite end state)."
   ]
  },
  {
   "cell_type": "code",
   "execution_count": null,
   "id": "bbcfd2e2-a50e-4398-85d1-f80b01597720",
   "metadata": {},
   "outputs": [],
   "source": [
    "# Visualize the mapping in 3D\n",
    "from openfe.utils import visualization_3D\n",
    "\n",
    "visualization_3D.view_mapping_3d(lomap_mapping, show_atomIDs=True)"
   ]
  },
  {
   "cell_type": "markdown",
   "id": "f21bf9e5-6cb8-41c1-b0fd-e70ee2e71852",
   "metadata": {},
   "source": [
    "**2. `KartografAtomMapper`**\n",
    "\n",
    "We can also use the `KartografAtomMapper` which is based on the 3D geometries of the ligands."
   ]
  },
  {
   "cell_type": "code",
   "execution_count": null,
   "id": "c710a20e-2098-461f-8fa6-5e44b19ad6aa",
   "metadata": {},
   "outputs": [],
   "source": [
    "from kartograf import KartografAtomMapper\n",
    "# Build Kartograf Atom Mapper\n",
    "mapper = KartografAtomMapper(atom_map_hydrogens=True)\n",
    "\n",
    "# Get Mapping\n",
    "kartograf_mapping = next(mapper.suggest_mappings(ligand_mols[0], ligand_mols[4]));"
   ]
  },
  {
   "cell_type": "code",
   "execution_count": null,
   "id": "56117a03-6503-4317-9364-27e343a4911e",
   "metadata": {},
   "outputs": [],
   "source": [
    "# We can display the atom mapping in 2D by calling it\n",
    "kartograf_mapping"
   ]
  },
  {
   "cell_type": "code",
   "execution_count": null,
   "id": "aaeca570-9d15-4136-9b76-5a7b9f57e2c2",
   "metadata": {},
   "outputs": [],
   "source": [
    "# Visualize the mapping in 3D\n",
    "from openfe.utils import visualization_3D\n",
    "\n",
    "visualization_3D.view_mapping_3d(kartograf_mapping, show_atomIDs=True)"
   ]
  },
  {
   "cell_type": "markdown",
   "id": "de4592a7",
   "metadata": {
    "id": "de4592a7"
   },
   "source": [
    "### 2.1.3: Creating a ligand network"
   ]
  },
  {
   "cell_type": "markdown",
   "id": "58bede1f-853e-455b-b1f3-b8c9cfca2346",
   "metadata": {},
   "source": [
    "\n",
    "A `LigandNetwork` is a set of `SmallMoleculeComponent`s that are connected by `AtomMapping`s of two small molecules. \n",
    "\n",
    "The user can choose between multiple different network topologies:\n",
    "* Minimial spanning tree (MST)\n",
    "* LOMAP network\n",
    "* Radial (star) network\n",
    "* Loading in networks from external software (FEP+ or Orion)\n",
    "* Loading in a user-defined network\n",
    "\n",
    "In this section, we will create and visualize the MST, LOMAP, and radial networks for the TYK2 dataset.\n",
    "\n",
    "Here, we will be using the `LomapAtomMapper` as the atom mapper for all networks."
   ]
  },
  {
   "cell_type": "code",
   "execution_count": null,
   "id": "5b89da93",
   "metadata": {
    "id": "5b89da93",
    "scrolled": true
   },
   "outputs": [],
   "source": [
    "# Create network from the two molecules\n",
    "import openfe\n",
    "from openfe.setup.ligand_network_planning import generate_radial_network\n",
    "from openfe.setup.ligand_network_planning import generate_minimal_spanning_network\n",
    "from openfe.setup.ligand_network_planning import generate_lomap_network\n",
    "from openfe.setup import LomapAtomMapper\n",
    "\n",
    "# Create an MST network\n",
    "mst_network = generate_minimal_spanning_network(\n",
    "    ligands=ligand_mols,\n",
    "    scorer=openfe.lomap_scorers.default_lomap_score,\n",
    "    mappers=[LomapAtomMapper(),]);\n",
    "\n",
    "# Create a LOMAP network\n",
    "lomap_network = generate_lomap_network(\n",
    "    ligands=ligand_mols,\n",
    "    scorer=openfe.lomap_scorers.default_lomap_score,\n",
    "    mappers=[LomapAtomMapper(),]);"
   ]
  },
  {
   "cell_type": "markdown",
   "id": "41cd9718-0c2e-4b59-86ee-8dc429915de1",
   "metadata": {},
   "source": [
    "We can plot out the different networks to visualize their structure and to see how ligands are being transformed."
   ]
  },
  {
   "cell_type": "code",
   "execution_count": null,
   "id": "78a2ef98-1d8a-41f1-94bf-c743c0d9afd8",
   "metadata": {},
   "outputs": [],
   "source": [
    "from konnektor.visualization import draw_ligand_network\n",
    "import matplotlib.pyplot as plt\n",
    "fig, ax = plt.subplots(ncols=2, figsize=(20,10), dpi=120, squeeze=True)\n",
    "draw_ligand_network(mst_network,node_size=4400, fontsize=26, title=\"Minimal Spanning Tree\",ax=ax[0]);\n",
    "draw_ligand_network(lomap_network,node_size=4400, fontsize=26, title=\"LOMAP network\", ax=ax[1]);\n",
    "fig.tight_layout()"
   ]
  },
  {
   "cell_type": "code",
   "execution_count": null,
   "id": "711d73bc-519f-4b81-9daf-c7594c7bbf8f",
   "metadata": {},
   "outputs": [],
   "source": [
    "from rdkit import Chem\n",
    "from rdkit.Chem import AllChem\n",
    "from rdkit.Chem import Draw\n",
    "\n",
    "# Extract the contents of the sdf file and visualise it\n",
    "ligands_rdmol = [mol for mol in\n",
    "                 Chem.SDMolSupplier('inputs/tyk2_ligands.sdf', removeHs=False)]\n",
    "\n",
    "for ligand in ligands_rdmol:\n",
    "    AllChem.Compute2DCoords(ligand)\n",
    "\n",
    "Chem.Draw.MolsToGridImage(ligands_rdmol, molsPerRow=5)"
   ]
  },
  {
   "cell_type": "markdown",
   "id": "2a280ffb-0a71-48ad-b4ec-9374f4460c80",
   "metadata": {},
   "source": [
    "Edges along the network can be accessed to recover the individual molecules involved in a given alchemical tranformation and the atom mapping between the two ligands. \n",
    "\n",
    "**Note: as can be seen in the example below, transformations are defined within OpenFE as going from componentA to componentB**"
   ]
  },
  {
   "cell_type": "code",
   "execution_count": null,
   "id": "ad80c243-82d7-4599-a4a6-5d651c662f24",
   "metadata": {},
   "outputs": [],
   "source": [
    "mst_edges = [edge for edge in mst_network.edges]\n",
    "\n",
    "# Pick an edge\n",
    "edge = mst_edges[1]\n",
    "\n",
    "# Print the smiles of the molecules and the mapping\n",
    "print(\"molecule A smiles: \", edge.componentA.smiles)\n",
    "print(\"molecule B smiles: \", edge.componentB.smiles)\n",
    "print(\"map between molecule A and B: \", edge.componentA_to_componentB)"
   ]
  },
  {
   "cell_type": "code",
   "execution_count": null,
   "id": "9f92262f",
   "metadata": {
    "colab": {
     "base_uri": "https://localhost:8080/",
     "height": 317
    },
    "id": "9f92262f",
    "outputId": "d8dc47c7-c487-4f78-9e19-c388ef6a7c51"
   },
   "outputs": [],
   "source": [
    "# We can display the atom mapping of an edge by calling it\n",
    "edge"
   ]
  },
  {
   "cell_type": "code",
   "execution_count": null,
   "id": "66dd7d32",
   "metadata": {
    "colab": {
     "base_uri": "https://localhost:8080/",
     "height": 317
    },
    "id": "66dd7d32",
    "outputId": "13a421f2-ce17-49c6-aac0-e3c157d59a91"
   },
   "outputs": [],
   "source": [
    "from IPython.display import Image\n",
    "\n",
    "# mappings can also be saved to file if required\n",
    "edge.draw_to_file('tyk2_edge.png')\n",
    "\n",
    "# load it back for visualisation\n",
    "Image(\"tyk2_edge.png\")"
   ]
  },
  {
   "cell_type": "markdown",
   "id": "8e119e3e",
   "metadata": {
    "id": "8e119e3e"
   },
   "source": [
    "#### Storing the ligand network\n",
    "\n",
    "Created networks can easily be converted to (and also loaded from) a GraphML representation.\n",
    "\n",
    "This can allow users of OpenFE to store the network to disk for later use."
   ]
  },
  {
   "cell_type": "code",
   "execution_count": null,
   "id": "0be4c1f4",
   "metadata": {
    "id": "0be4c1f4"
   },
   "outputs": [],
   "source": [
    "# Convert to graphml\n",
    "with open(\"network_store.graphml\", \"w\") as writer:\n",
    "    writer.write(mst_network.to_graphml())"
   ]
  },
  {
   "cell_type": "code",
   "execution_count": null,
   "id": "0b6c9ec3",
   "metadata": {
    "id": "0b6c9ec3"
   },
   "outputs": [],
   "source": [
    "# First let's define the Protein and Solvent Components which we will be using\n",
    "from openfe import SolventComponent, ProteinComponent\n",
    "from openff.units import unit\n",
    "\n",
    "protein = ProteinComponent.from_pdb_file('inputs/tyk2_protein.pdb')\n",
    "\n",
    "# Note: the distance from the solute to add water is not defined here but in the\n",
    "# the relevant RBFE solver method\n",
    "solvent = SolventComponent(positive_ion='Na', negative_ion='Cl',\n",
    "                           neutralize=True, ion_concentration=0.15*unit.molar)"
   ]
  },
  {
   "cell_type": "code",
   "execution_count": null,
   "id": "8c6d6504",
   "metadata": {
    "colab": {
     "base_uri": "https://localhost:8080/",
     "height": 317
    },
    "id": "8c6d6504",
    "outputId": "47026705-938a-4e62-f1af-66e9c50334aa"
   },
   "outputs": [],
   "source": [
    "# Extract the relevant edge for the lig_ejm_31 -> lig_ejm_47 transform in the radial graph\n",
    "ejm_31_to_ejm_47 = [edge for edge in mst_network.edges if edge.componentB.name == \"lig_ejm_47\"][0]\n",
    "\n",
    "ejm_31_to_ejm_47"
   ]
  },
  {
   "cell_type": "markdown",
   "id": "043672e9-20e5-4b2c-8977-cca0e2ddf23e",
   "metadata": {},
   "source": [
    "We’ll write out the transformation to disk, so that it can be run using the `openfe quickrun` command:"
   ]
  },
  {
   "cell_type": "code",
   "execution_count": null,
   "id": "12d35b4c-b737-4c3c-9fda-dc387aaa6915",
   "metadata": {},
   "outputs": [],
   "source": [
    "import pathlib\n",
    "# first we create the directory\n",
    "transformation_dir = pathlib.Path(\"tyk2_json\")\n",
    "transformation_dir.mkdir(exist_ok=True)\n",
    "\n",
    "# then we write out the transformations\n",
    "transformation_complex.dump(transformation_dir / f\"{transformation_complex.name}.json\")\n",
    "transformation_solvent.dump(transformation_dir / f\"{transformation_solvent.name}.json\")"
   ]
  },
  {
   "cell_type": "markdown",
   "id": "05d4c16c-1d16-4ef1-a1b3-2eec6275c778",
   "metadata": {},
   "source": [
    "You can run the RBFE simulations from the CLI by using the `openfe quickrun` command, as described in Section 5. below."
   ]
  },
  {
   "cell_type": "markdown",
   "id": "c3a26c6b-c958-4607-a191-f84c626d2db1",
   "metadata": {},
   "source": [
    "# 3. Useful References for Exploring OpenFE Further"
   ]
  },
  {
   "cell_type": "markdown",
   "id": "2dc92d40-5a28-404f-bbff-5081cec5f995",
   "metadata": {},
   "source": [
    "In our [documentation](https://docs.openfree.energy/en/latest/index.html), \n",
    "we provide tutorials for ever protocol to walk you through setup, execution and analysis step by step.\n",
    "\n",
    "* [RBFE CLI tutorial](https://docs.openfree.energy/en/latest/tutorials/rbfe_cli_tutorial.html)\n",
    "* [RBFE Python tutorial](https://docs.openfree.energy/en/latest/tutorials/rbfe_python_tutorial.html)\n",
    "* [AHFE tutorial](https://docs.openfree.energy/en/latest/tutorials/ahfe_tutorial.html)\n",
    "* [MD tutorial](https://docs.openfree.energy/en/latest/tutorials/md_tutorial.html)\n",
    "\n",
    "In addition to the tutorials, you can find [cookbooks](https://docs.openfree.energy/en/latest/cookbook/index.html), written as How-to guides on how to utilize different components of the toolkit, as well as a [User Guide](https://docs.openfree.energy/en/latest/guide/index.html) that goes into the underlying concepts of the OpenFE toolkit.\n",
    "\n",
    "For details about the toolkit's core methods and classes, please visit our [API Reference](https://docs.openfree.energy/en/latest/reference/index.html) or our [Github page](https://github.com/OpenFreeEnergy/openfe).\n",
    "\n",
    "To learn more about the project, our team and how you can get involved, please visit our [Homepage](https://openfree.energy/) or get in touch at OpenFreeEnergy@omsf.io."
   ]
  }
 ],
 "metadata": {
  "accelerator": "GPU",
  "colab": {
   "gpuType": "T4",
   "provenance": []
  },
  "kernelspec": {
   "display_name": "Python 3 (ipykernel)",
   "language": "python",
   "name": "python3"
  },
  "language_info": {
   "codemirror_mode": {
    "name": "ipython",
    "version": 3
   },
   "file_extension": ".py",
   "mimetype": "text/x-python",
   "name": "python",
   "nbconvert_exporter": "python",
   "pygments_lexer": "ipython3",
   "version": "3.12.11"
  }
 },
 "nbformat": 4,
 "nbformat_minor": 5
}
